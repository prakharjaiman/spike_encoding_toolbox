{
 "cells": [
  {
   "cell_type": "code",
   "execution_count": null,
   "metadata": {},
   "outputs": [],
   "source": [
    "#!/usr/bin/env python\n",
    "# coding: utf-8\n",
    "\n",
    "# spike conversion algorithm.\n",
    "# Spike time array contains values of spike times in ms.\n",
    "# Saved arrays :\n",
    "\n",
    "# X: Array of the EMG Digital time series data with length = 300\n",
    "# Y: Array of the labels of theing data with length = 300\n",
    "\n",
    "# spike_times_up: Spike time arrays with upward polarity in ms for X. length = 300\n",
    "# spike_times_dn: Spike time arrays with downward polarity in ms for X. length = 300\n",
    "\n",
    "# Author : Nikhil Garg, 3IT Sherbrooke ; nikhilgarg.bits@gmail.com\n",
    "# Created : 15 July 2020\n",
    "# Last edited : 12th September 2020"
   ]
  },
  {
   "cell_type": "code",
   "execution_count": null,
   "metadata": {},
   "outputs": [],
   "source": [
    "import os\n",
    "import numpy as np\n",
    "import matplotlib.pyplot as plt\n",
    "import scipy as sc\n",
    "from scipy.signal import butter, lfilter, welch, square  # for signal filtering\n",
    "from utilis import *\n",
    "from args import args as my_args"
   ]
  },
  {
   "cell_type": "code",
   "execution_count": null,
   "metadata": {},
   "outputs": [],
   "source": [
    "fs = 1000\n",
    "nb_channels = 64\n",
    "len_trial = 1000  # 2 seconds of trial, sampling rate is 200"
   ]
  },
  {
   "cell_type": "code",
   "execution_count": null,
   "metadata": {},
   "outputs": [],
   "source": [
    "pwd = os.getcwd()\n",
    "path = pwd + '\\\\dataset\\\\bci_3.npz'"
   ]
  },
  {
   "cell_type": "code",
   "execution_count": null,
   "metadata": {},
   "outputs": [],
   "source": []
  },
  {
   "cell_type": "code",
   "execution_count": null,
   "metadata": {},
   "outputs": [],
   "source": []
  },
  {
   "cell_type": "code",
   "execution_count": null,
   "metadata": {},
   "outputs": [],
   "source": [
    "data = np.load(path, mmap_mode='r')\n",
    "for k in data.files:\n",
    "    print(k)"
   ]
  },
  {
   "cell_type": "code",
   "execution_count": null,
   "metadata": {},
   "outputs": [],
   "source": [
    "print(data['events'].shape)\n",
    "print(data['X'].shape)\n",
    "print(data['X_test'].shape)"
   ]
  },
  {
   "cell_type": "code",
   "execution_count": null,
   "metadata": {},
   "outputs": [],
   "source": [
    "# data = np.load('/Users/Anonymous/Desktop/spike_encoding_toolbox/dataset/bci3/bci3epochs.npz')\n",
    "X = np.array(data['X'])\n",
    "Y = np.array(data['events'])"
   ]
  },
  {
   "cell_type": "code",
   "execution_count": null,
   "metadata": {},
   "outputs": [],
   "source": [
    "X = np.moveaxis(X, 2, 1)"
   ]
  },
  {
   "cell_type": "code",
   "execution_count": null,
   "metadata": {},
   "outputs": [],
   "source": [
    "X.shape"
   ]
  },
  {
   "cell_type": "code",
   "execution_count": null,
   "metadata": {},
   "outputs": [],
   "source": [
    "# VERBOSE = True\n",
    "# # pwd = os. getcwd()\n",
    "# data_dir = \"/Users/Anonymous/Desktop/spike_encoding_toolbox/dataset/bci3/bci3epochs.npz\"\n",
    "    \n",
    "# #Add data here\n",
    "# data = np.load('/Users/Anonymous/Desktop/spike_encoding_toolbox/dataset/bci3/bci3epochs.npz')\n",
    "# X = data['X']\n",
    "# Y = data['y']\n",
    "# X = np.array(X)\n",
    "# Y = np.array(Y)\n",
    "\n",
    "# X_uniform is a time series data array with length of 400. The initial segments are about 397, 493 etc which\n",
    "# makes it incompatible in some cases where uniform input is desired.\n",
    "\n",
    "nb_trials = X.shape[0]\n"
   ]
  },
  {
   "cell_type": "code",
   "execution_count": null,
   "metadata": {},
   "outputs": [],
   "source": [
    "nb_trials"
   ]
  },
  {
   "cell_type": "code",
   "execution_count": null,
   "metadata": {},
   "outputs": [],
   "source": [
    "# X_uniform = np.ones((nb_trials, len_trial, nb_channels))\n",
    "# for i in range(len(X)):\n",
    "#     trial_length = X[i].shape[0]\n",
    "#     if trial_length > len_trial:\n",
    "#         X_uniform[i] = X[i][0:len_trial]\n",
    "#     elif trial_length < len_trial:\n",
    "#         short = len_trial - trial_length\n",
    "#         pad = np.zeros((short, nb_channels))\n",
    "#         X_uniform[i] = np.append(X[i], pad, axis=0)\n",
    "#     else:\n",
    "#         X_uniform[i] = X[i]\n",
    "# # print(len(X))\n",
    "# print(\"Number of samples in dataset:\")\n",
    "# print(len(X_uniform))\n",
    "print(len(Y))\n",
    "# print(\"Class labels:\")\n"
   ]
  },
  {
   "cell_type": "code",
   "execution_count": null,
   "metadata": {},
   "outputs": [],
   "source": [
    "Y"
   ]
  },
  {
   "cell_type": "code",
   "execution_count": null,
   "metadata": {},
   "outputs": [],
   "source": [
    "X_uniform=X"
   ]
  },
  {
   "cell_type": "code",
   "execution_count": null,
   "metadata": {},
   "outputs": [],
   "source": [
    "interpfact = 2\n",
    "refractory_period = 1  # in ms\n",
    "th_up = 5\n",
    "th_dn = 5\n",
    "\n",
    "\n",
    "# Generate the  data\n",
    "spike_times_up = []\n",
    "spike_times_dn = []\n",
    "for i in range(len(X)):\n",
    "    spk_up, spk_dn = gen_spike_time(\n",
    "        time_series_data=X[i],\n",
    "        interpfact=interpfact,\n",
    "        fs=fs,\n",
    "        th_up=th_up,\n",
    "        th_dn=th_dn,\n",
    "        refractory_period=refractory_period,\n",
    "    )\n",
    "    spike_times_up.append(spk_up)\n",
    "    spike_times_dn.append(spk_dn)\n",
    "\n",
    "\n",
    "rate_up = gen_spike_rate(spike_times_up)\n",
    "rate_dn = gen_spike_rate(spike_times_up)\n",
    "avg_spike_rate = (rate_up+rate_dn)/2\n",
    "print(\"Average spiking rate\")\n",
    "print(avg_spike_rate)\n"
   ]
  },
  {
   "cell_type": "code",
   "execution_count": null,
   "metadata": {},
   "outputs": [],
   "source": [
    "# Plot a up segment\n",
    "plt.eventplot(spike_times_up[1], color=[0, 0, 1], linewidth=0.5)\n",
    "plt.xlabel(\"Time(ms)\")\n",
    "plt.ylabel(\"Channel\")\n",
    "plt.title(\"Spike raster plot for up channel\")\n",
    "plt.show()\n",
    "plt.clf()\n",
    "# Plot a dn segment\n",
    "plt.eventplot(spike_times_dn[1], color=[1, 0, 0], linewidth=0.5)\n",
    "plt.xlabel(\"Time(ms)\")\n",
    "plt.ylabel(\"Channel\")\n",
    "plt.title(\"Spike raster plot for down channel\")\n",
    "plt.show()"
   ]
  },
  {
   "cell_type": "code",
   "execution_count": null,
   "metadata": {},
   "outputs": [],
   "source": [
    "pwd = os.getcwd()\n",
    "path = pwd + '\\\\dataset\\\\bci_3_encoded.npz'"
   ]
  },
  {
   "cell_type": "code",
   "execution_count": null,
   "metadata": {},
   "outputs": [],
   "source": [
    "spike_times_up = np.array(spike_times_up)\n",
    "spike_times_up = np.array(spike_times_up)\n",
    "\n",
    "\n",
    "\n",
    "np.savez_compressed(\n",
    "    path,\n",
    "    Y_Train=Y,\n",
    "    Y_Test=Y,\n",
    "    spike_times_train_up=spike_times_up,\n",
    "    spike_times_train_dn=spike_times_dn,\n",
    "    spike_times_test_up=spike_times_up,\n",
    "    spike_times_test_dn=spike_times_dn,\n",
    ")"
   ]
  },
  {
   "cell_type": "code",
   "execution_count": null,
   "metadata": {},
   "outputs": [],
   "source": []
  },
  {
   "cell_type": "code",
   "execution_count": null,
   "metadata": {},
   "outputs": [],
   "source": [
    "spike_times_up = np.array(spike_times_up)\n",
    "spike_times_up = np.array(spike_times_up)\n"
   ]
  },
  {
   "cell_type": "code",
   "execution_count": null,
   "metadata": {},
   "outputs": [],
   "source": []
  },
  {
   "cell_type": "code",
   "execution_count": null,
   "metadata": {},
   "outputs": [],
   "source": [
    "_t = np.arange(\n",
    "    0, 3000, 5\n",
    ")  # Time array of 2000ms for the 200 samples per second. For ploting purpose.\n",
    "_t_spike = np.arange(0, 3000, 5)  # Time array for defining the X axis of graph.\n",
    "\n",
    "# Plot a up segment\n",
    "plt.eventplot(spike_times_up[1], color=[0, 0, 1], linewidth=0.5)\n",
    "plt.xlabel(\"Time(ms)\")\n",
    "plt.ylabel(\"Channel\")\n",
    "plt.title(\"Spike raster plot for up channel\")\n",
    "\n",
    "# Plot a dn segment\n",
    "plt.eventplot(spike_times_dn[1], color=[1, 0, 0], linewidth=0.5)\n",
    "plt.xlabel(\"Time(ms)\")\n",
    "plt.ylabel(\"Channel\")\n",
    "plt.title(\"Spike raster plot for down channel\")\n",
    "\n",
    "channels = np.linspace(0, nb_channels-1, num=nb_channels)\n",
    "\n",
    "plt.plot(_t, X[1], linewidth=0.5)\n",
    "plt.legend(channels)\n",
    "plt.title(\"Raw Data\")\n",
    "plt.xlabel(\"Time(ms)\")\n",
    "plt.ylabel(\"Amplitude\")\n",
    "pwd = os.getcwd()\n",
    "fig_dir = pwd + '/plots/'\n",
    "fig_name = 'encoded-data'  + \".svg\"\n",
    "\n",
    "plt.savefig(fig_dir+fig_name)\n",
    "plt.clf()\n",
    "\n",
    "spike_times_up = np.array(spike_times_up)\n",
    "spike_times_up = np.array(spike_times_up)\n",
    "\n",
    "\n",
    "file_path = \"dataset/\"\n",
    "file_name = 'bci3' + \".npz\"\n",
    "\n",
    "np.savez_compressed(\n",
    "    file_path + file_name,\n",
    "    X_Train=X_Train,\n",
    "    Y_Train=Y,\n",
    "    X_Test=X_Test,\n",
    "    Y_Test=Y,\n",
    "    spike_times_up=spike_times_up,\n",
    "    spike_times_dn=spike_times_dn,\n",
    ")"
   ]
  },
  {
   "cell_type": "code",
   "execution_count": null,
   "metadata": {},
   "outputs": [],
   "source": []
  }
 ],
 "metadata": {
  "kernelspec": {
   "display_name": "Python 3",
   "language": "python",
   "name": "python3"
  },
  "language_info": {
   "codemirror_mode": {
    "name": "ipython",
    "version": 3
   },
   "file_extension": ".py",
   "mimetype": "text/x-python",
   "name": "python",
   "nbconvert_exporter": "python",
   "pygments_lexer": "ipython3",
   "version": "3.9.7"
  }
 },
 "nbformat": 4,
 "nbformat_minor": 4
}
